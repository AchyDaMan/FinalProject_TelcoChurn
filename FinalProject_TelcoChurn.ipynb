{
  "nbformat": 4,
  "nbformat_minor": 0,
  "metadata": {
    "colab": {
      "name": "FinalProject_TelcoChurn.ipynb",
      "provenance": [],
      "collapsed_sections": [],
      "include_colab_link": true
    },
    "kernelspec": {
      "name": "python3",
      "display_name": "Python 3"
    },
    "language_info": {
      "name": "python"
    }
  },
  "cells": [
    {
      "cell_type": "markdown",
      "metadata": {
        "id": "view-in-github",
        "colab_type": "text"
      },
      "source": [
        "<a href=\"https://colab.research.google.com/github/AchyDaMan/FinalProject_TelcoChurn/blob/main/FinalProject_TelcoChurn.ipynb\" target=\"_parent\"><img src=\"https://colab.research.google.com/assets/colab-badge.svg\" alt=\"Open In Colab\"/></a>"
      ]
    },
    {
      "cell_type": "code",
      "execution_count": 3,
      "metadata": {
        "id": "B_7qg-uU1dpw"
      },
      "outputs": [],
      "source": [
        "import pandas as pd\n",
        "from sklearn import tree"
      ]
    },
    {
      "cell_type": "markdown",
      "source": [
        "Markdown Markdown"
      ],
      "metadata": {
        "id": "lX9sgBUO5GtI"
      }
    },
    {
      "cell_type": "code",
      "source": [
        "#Load everything into a df\n",
        "\n",
        "df = pd.read_csv('Telco-Customer-Churn.csv')"
      ],
      "metadata": {
        "id": "75-ZIjYM5YZg"
      },
      "execution_count": 5,
      "outputs": []
    },
    {
      "cell_type": "code",
      "source": [
        "#Calculating Percent Turnover\n",
        "yes = 0\n",
        "no = 0\n",
        "\n",
        "for i in df['Churn'].iteritems():\n",
        "  #print(i[1])\n",
        "  if 'Yes' in i[1]:\n",
        "    yes += 1\n",
        "  elif 'No' in i[1]:\n",
        "    no += 1\n",
        "\n",
        "print('They stayed:', no)\n",
        "print('They left:', yes)\n",
        "print('Percent turnover:', yes/(no+yes))"
      ],
      "metadata": {
        "colab": {
          "base_uri": "https://localhost:8080/"
        },
        "id": "YJaE7yC66noE",
        "outputId": "c0128a99-3a34-4d99-df8d-2a58ff3f9c9d"
      },
      "execution_count": 27,
      "outputs": [
        {
          "output_type": "stream",
          "name": "stdout",
          "text": [
            "They stayed: 5174\n",
            "They left: 1869\n",
            "Percent turnover: 0.2653698707936959\n"
          ]
        }
      ]
    }
  ]
}