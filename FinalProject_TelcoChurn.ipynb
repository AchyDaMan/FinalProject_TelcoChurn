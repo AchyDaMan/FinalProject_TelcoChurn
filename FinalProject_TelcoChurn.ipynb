{
  "nbformat": 4,
  "nbformat_minor": 0,
  "metadata": {
    "colab": {
      "name": "FinalProject_TelcoChurn.ipynb",
      "provenance": [],
      "collapsed_sections": [],
      "include_colab_link": true
    },
    "kernelspec": {
      "name": "python3",
      "display_name": "Python 3"
    },
    "language_info": {
      "name": "python"
    }
  },
  "cells": [
    {
      "cell_type": "markdown",
      "metadata": {
        "id": "view-in-github",
        "colab_type": "text"
      },
      "source": [
        "<a href=\"https://colab.research.google.com/github/AchyDaMan/FinalProject_TelcoChurn/blob/main/FinalProject_TelcoChurn.ipynb\" target=\"_parent\"><img src=\"https://colab.research.google.com/assets/colab-badge.svg\" alt=\"Open In Colab\"/></a>"
      ]
    },
    {
      "cell_type": "markdown",
      "source": [
        "Data Science Project - Telco churn sample data"
      ],
      "metadata": {
        "id": "4iXAGGFsar2_"
      }
    },
    {
      "cell_type": "code",
      "execution_count": null,
      "metadata": {
        "id": "B_7qg-uU1dpw"
      },
      "outputs": [],
      "source": [
        "import pandas as pd\n",
        "import numpy as np\n",
        "from numpy import mean\n",
        "import matplotlib.pyplot as plt"
      ]
    },
    {
      "cell_type": "code",
      "source": [
        "#Load everything into a df\n",
        "\n",
        "df = pd.read_csv('Telco-Customer-Churn.csv')"
      ],
      "metadata": {
        "id": "75-ZIjYM5YZg"
      },
      "execution_count": null,
      "outputs": []
    },
    {
      "cell_type": "markdown",
      "source": [
        "The first step that our group took towards processing this data was to calculate the percent of turnover for all clients in the data set. In order to calculate this, the number of clients who left and the number of clients who stayed were added up and the percentage of the number who left was calculated."
      ],
      "metadata": {
        "id": "Nu5WXWgWZLv2"
      }
    },
    {
      "cell_type": "code",
      "source": [
        "#Calculating Percent Turnover\n",
        "#These were first cracks at working with the data. Not relevant for our work but give some interesting numbers\n",
        "yes = 0\n",
        "no = 0\n",
        "\n",
        "for i in df['Churn'].iteritems():\n",
        "  #print(i[1])\n",
        "  if 'Yes' in i[1]:\n",
        "    yes += 1\n",
        "  elif 'No' in i[1]:\n",
        "    no += 1\n",
        "\n",
        "print('They stayed:', no)\n",
        "print('They left:', yes)\n",
        "print('Percent turnover:', yes/(no+yes))"
      ],
      "metadata": {
        "id": "YJaE7yC66noE",
        "colab": {
          "base_uri": "https://localhost:8080/"
        },
        "outputId": "e6791be7-fb3c-4d67-846b-905c44c1bc33"
      },
      "execution_count": null,
      "outputs": [
        {
          "output_type": "stream",
          "name": "stdout",
          "text": [
            "They stayed: 5174\n",
            "They left: 1869\n",
            "Percent turnover: 0.2653698707936959\n"
          ]
        }
      ]
    },
    {
      "cell_type": "markdown",
      "source": [
        "Afterwards, we decided to analyze the relationship between contract type, which could be either yearly or month to month, and the percentages of churn associated with these contract types."
      ],
      "metadata": {
        "id": "m3ACcJtdaMNE"
      }
    },
    {
      "cell_type": "code",
      "source": [
        "#We will calculate how churn relates to contract type (month --> month, yearly)\n",
        "\n",
        "monthlyChurn = 0\n",
        "yearlyChurn = 0\n",
        "monthlyKeep = 0\n",
        "yearlyKeep = 0\n",
        "rows = []\n",
        "for i in df['Contract'].iteritems():\n",
        "  if 'Month' in i[1]:\n",
        "    #print(0)\n",
        "    rows.append(0)\n",
        "  elif 'year' in i[1]:\n",
        "    #print(1)\n",
        "    rows.append(1)\n",
        "iter = 0\n",
        "for i in df['Churn'].iteritems():\n",
        "  #print(i[1])\n",
        "  if 'Yes' in i[1]:\n",
        "    if rows[iter] == 0:\n",
        "      monthlyChurn += 1\n",
        "    elif rows[iter] == 1:\n",
        "      yearlyChurn += 1\n",
        "  elif 'No' in i[1]:\n",
        "    if rows[iter] == 0:\n",
        "      monthlyKeep += 1\n",
        "    elif rows[iter] == 1:\n",
        "      yearlyKeep += 1 \n",
        "  iter += 1   \n",
        "\n",
        "print(monthlyChurn, yearlyChurn, monthlyKeep, yearlyKeep)"
      ],
      "metadata": {
        "id": "UeouvucmaxE2",
        "colab": {
          "base_uri": "https://localhost:8080/"
        },
        "outputId": "61e18ac1-c5e0-4806-ff42-98002c5fb0f1"
      },
      "execution_count": null,
      "outputs": [
        {
          "output_type": "stream",
          "name": "stdout",
          "text": [
            "1655 214 2220 2954\n"
          ]
        }
      ]
    },
    {
      "cell_type": "markdown",
      "source": [
        "The visualization of the relationship between contract type and churn includes plotting the relationship between the two variables in a bar chart that is readable."
      ],
      "metadata": {
        "id": "b_IB9gHAa8Y5"
      }
    },
    {
      "cell_type": "code",
      "source": [
        "#Plot the relationship between Monthly/Yearly contracts and churn rate\n",
        "\n",
        "plt.style.use('ggplot')\n",
        "x = ['MC', 'YC', 'MK', 'YK']\n",
        "y = [monthlyChurn, yearlyChurn, monthlyKeep, yearlyKeep]\n",
        "x_pos = np.arange(len(x))\n",
        "plt.bar(x_pos, y, color='#7ed6df')\n",
        "plt.xlabel(\"M = Month, Y = Year, C = Churn, K = Keep\")\n",
        "plt.ylabel(\"People (in 1s)\")\n",
        "plt.title(\"Customer Turnover\")\n",
        "plt.xticks(x_pos, x)\n",
        "plt.show()\n",
        "\n"
      ],
      "metadata": {
        "colab": {
          "base_uri": "https://localhost:8080/",
          "height": 299
        },
        "id": "-KEhuEtbKjne",
        "outputId": "91f83a09-9ae1-433a-cf91-d25daa13be91"
      },
      "execution_count": null,
      "outputs": [
        {
          "output_type": "display_data",
          "data": {
            "text/plain": [
              "<Figure size 432x288 with 1 Axes>"
            ],
            "image/png": "[encoded data removed]"
          },
          "metadata": {}
        }
      ]
    },
    {
      "cell_type": "markdown",
      "source": [
        "The next relationship analyzed was that between seniority (whether the client is a senior citizen) and tenure, which is the time in months that the client has remained using the company's services."
      ],
      "metadata": {
        "id": "Ifufk-bYbvVY"
      }
    },
    {
      "cell_type": "code",
      "source": [
        "#We will calculate the relation between seniority and tenure (in months)\n",
        "\n",
        "#print(df['SeniorCitizen'])\n",
        "seniorList = list(df['SeniorCitizen'])\n",
        "iter = 0\n",
        "tenureList = list(df['tenure'])\n",
        "avgTenure = mean(tenureList)\n",
        "print(round(avgTenure,2))\n",
        "\n",
        "seniorTenure = []\n",
        "notThat = []\n",
        "iter = 0\n",
        "for i in seniorList:\n",
        "  if(i == 0):\n",
        "    notThat.append(tenureList[iter])\n",
        "  elif(i == 1):\n",
        "    seniorTenure.append(tenureList[iter])\n",
        "  iter += 1\n",
        "\n",
        "notMean = mean(notThat)\n",
        "seniorMean = mean(seniorTenure)"
      ],
      "metadata": {
        "colab": {
          "base_uri": "https://localhost:8080/"
        },
        "id": "C_M-9r9YOdCp",
        "outputId": "8366286d-ad0f-4eee-9ebd-1e280854143a"
      },
      "execution_count": null,
      "outputs": [
        {
          "output_type": "stream",
          "name": "stdout",
          "text": [
            "32.37\n"
          ]
        }
      ]
    },
    {
      "cell_type": "markdown",
      "source": [
        "After calculating, this age and tenure relationship was plotted in a visual bar chart."
      ],
      "metadata": {
        "id": "z-Cm7a_RcJqc"
      }
    },
    {
      "cell_type": "code",
      "source": [
        "#Plot the senior/tenure relationship\n",
        "plt.style.use('ggplot')\n",
        "x = ['Senior Tenure' ,' Everyone Else']\n",
        "y = [seniorMean, notMean]\n",
        "x_pos = np.arange(len(x))\n",
        "plt.bar(x_pos, y, color='#3ac63f')\n",
        "plt.xlabel(\"Types of Customer\")\n",
        "plt.ylabel(\"Average Tenure (in months)\")\n",
        "plt.title(\"Relationship between seniority and tenure at Telco\")\n",
        "plt.xticks(x_pos, x)\n",
        "plt.show()"
      ],
      "metadata": {
        "colab": {
          "base_uri": "https://localhost:8080/",
          "height": 299
        },
        "id": "WgDl0zUVRjWn",
        "outputId": "4ee76d40-b8f9-4f42-c86d-08ab4ea2433a"
      },
      "execution_count": null,
      "outputs": [
        {
          "output_type": "display_data",
          "data": {
            "text/plain": [
              "<Figure size 432x288 with 1 Axes>"
            ],
            "image/png": "[encoded data removed]"
          },
          "metadata": {}
        }
      ]
    },
    {
      "cell_type": "markdown",
      "source": [
        "In order to tackle the last research question on the relationship between payment method and churn, the data was similarly analyzed and visualized."
      ],
      "metadata": {
        "id": "-wrzjLckcTv5"
      }
    },
    {
      "cell_type": "code",
      "source": [
        "#We will calculate how churn relates to type of payment method \n",
        "#These include e-check, credit card, bank transfer, and mailed check\n",
        "\n",
        "EcheckChurn = 0\n",
        "McheckChurn = 0\n",
        "EcheckKeep = 0\n",
        "McheckKeep = 0\n",
        "rows = []\n",
        "for i in df['PaymentMethod'].iteritems():\n",
        "  if 'Electronic check' in i[1]:\n",
        "    rows.append(0) \n",
        "  elif 'Credit card (automatic)' in i[1]:\n",
        "    rows.append(1)\n",
        "  elif 'Bank transfer (automatic)' in i[1]:\n",
        "    rows.append(2)\n",
        "  elif 'Mailed check' in i[1]:\n",
        "    rows.append(3)\n",
        "#print(rows) \n",
        "\n",
        "iter = 0\n",
        "for i in df['Churn'].iteritems():\n",
        "  if 'Yes' in i[1]:\n",
        "    if rows[iter] < 3:\n",
        "      EcheckChurn += 1\n",
        "    else:\n",
        "      McheckChurn += 1\n",
        "  elif 'No' in i[1]:\n",
        "    if rows[iter] < 3:\n",
        "      EcheckKeep += 1\n",
        "    else:\n",
        "      McheckKeep += 1 \n",
        "  iter += 1   \n",
        "\n",
        "print(EcheckChurn, McheckChurn, EcheckKeep, McheckKeep)"
      ],
      "metadata": {
        "colab": {
          "base_uri": "https://localhost:8080/"
        },
        "id": "Ywu_ZrI8R7eR",
        "outputId": "111d3d2c-fc85-4b56-b6df-9f5071a3b0f8"
      },
      "execution_count": null,
      "outputs": [
        {
          "output_type": "stream",
          "name": "stdout",
          "text": [
            "1561 308 3870 1304\n"
          ]
        }
      ]
    },
    {
      "cell_type": "code",
      "source": [
        "#Plot the relation between payment type (electronic vs mailed) and churn/turnover\n",
        "plt.style.use('ggplot')\n",
        "x = ['EChurn' ,'EKeep', 'MChurn', 'MKeep']\n",
        "y = [EcheckChurn, EcheckKeep, McheckChurn, McheckKeep]\n",
        "x_pos = np.arange(len(x))\n",
        "plt.bar(x_pos, y, color='#89e144')\n",
        "plt.xlabel(\"Turnover by payment method (E = E-Check, M = Mail)\")\n",
        "plt.ylabel(\"Number of People (1)\")\n",
        "plt.title(\"Relationship between payment type and churn\")\n",
        "plt.xticks(x_pos, x)\n",
        "plt.show()"
      ],
      "metadata": {
        "colab": {
          "base_uri": "https://localhost:8080/",
          "height": 299
        },
        "id": "0TyL9bffSgrZ",
        "outputId": "cc03ad9b-ae8d-45a2-d751-649e6279a471"
      },
      "execution_count": null,
      "outputs": [
        {
          "output_type": "display_data",
          "data": {
            "text/plain": [
              "<Figure size 432x288 with 1 Axes>"
            ],
            "image/png": "[encoded data removed]"
          },
          "metadata": {}
        }
      ]
    }
  ]
}