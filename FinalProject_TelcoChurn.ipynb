{
  "nbformat": 4,
  "nbformat_minor": 0,
  "metadata": {
    "colab": {
      "name": "FinalProject_TelcoChurn.ipynb",
      "provenance": [],
      "collapsed_sections": [],
      "include_colab_link": true
    },
    "kernelspec": {
      "name": "python3",
      "display_name": "Python 3"
    },
    "language_info": {
      "name": "python"
    }
  },
  "cells": [
    {
      "cell_type": "markdown",
      "metadata": {
        "id": "view-in-github",
        "colab_type": "text"
      },
      "source": [
        "<a href=\"https://colab.research.google.com/github/AchyDaMan/FinalProject_TelcoChurn/blob/main/FinalProject_TelcoChurn.ipynb\" target=\"_parent\"><img src=\"https://colab.research.google.com/assets/colab-badge.svg\" alt=\"Open In Colab\"/></a>"
      ]
    },
    {
      "cell_type": "code",
      "execution_count": 38,
      "metadata": {
        "id": "B_7qg-uU1dpw"
      },
      "outputs": [],
      "source": [
        "import pandas as pd\n",
        "import numpy as np\n",
        "from numpy import mean\n",
        "import matplotlib.pyplot as plt"
      ]
    },
    {
      "cell_type": "markdown",
      "source": [
        "Markdown Markdown"
      ],
      "metadata": {
        "id": "lX9sgBUO5GtI"
      }
    },
    {
      "cell_type": "code",
      "source": [
        "#Load everything into a df\n",
        "\n",
        "df = pd.read_csv('Telco-Customer-Churn.csv')"
      ],
      "metadata": {
        "id": "75-ZIjYM5YZg"
      },
      "execution_count": 3,
      "outputs": []
    },
    {
      "cell_type": "code",
      "source": [
        "#Calculating Percent Turnover\n",
        "yes = 0\n",
        "no = 0\n",
        "\n",
        "for i in df['Churn'].iteritems():\n",
        "  #print(i[1])\n",
        "  if 'Yes' in i[1]:\n",
        "    yes += 1\n",
        "  elif 'No' in i[1]:\n",
        "    no += 1\n",
        "\n",
        "print('They stayed:', no)\n",
        "print('They left:', yes)\n",
        "print('Percent turnover:', yes/(no+yes))"
      ],
      "metadata": {
        "id": "YJaE7yC66noE",
        "colab": {
          "base_uri": "https://localhost:8080/"
        },
        "outputId": "abd70f17-ac21-48ec-c6ab-3d04fe1d4a5e"
      },
      "execution_count": 4,
      "outputs": [
        {
          "output_type": "stream",
          "name": "stdout",
          "text": [
            "They stayed: 5174\n",
            "They left: 1869\n",
            "Percent turnover: 0.2653698707936959\n"
          ]
        }
      ]
    },
    {
      "cell_type": "code",
      "source": [
        "#We will calculate how churn relates to contract type (month --> month, yearly)\n",
        "\n",
        "monthlyChurn = 0\n",
        "yearlyChurn = 0\n",
        "monthlyKeep = 0\n",
        "yearlyKeep = 0\n",
        "rows = []\n",
        "for i in df['Contract'].iteritems():\n",
        "  if 'Month' in i[1]:\n",
        "    #print(0)\n",
        "    rows.append(0)\n",
        "  elif 'year' in i[1]:\n",
        "    #print(1)\n",
        "    rows.append(1)\n",
        "iter = 0\n",
        "for i in df['Churn'].iteritems():\n",
        "  #print(i[1])\n",
        "  if 'Yes' in i[1]:\n",
        "    if rows[iter] == 0:\n",
        "      monthlyChurn += 1\n",
        "    elif rows[iter] == 1:\n",
        "      yearlyChurn += 1\n",
        "  elif 'No' in i[1]:\n",
        "    if rows[iter] == 0:\n",
        "      monthlyKeep += 1\n",
        "    elif rows[iter] == 1:\n",
        "      yearlyKeep += 1 \n",
        "  iter += 1   \n",
        "\n",
        "print(monthlyChurn, yearlyChurn, monthlyKeep, yearlyKeep)"
      ],
      "metadata": {
        "id": "UeouvucmaxE2",
        "colab": {
          "base_uri": "https://localhost:8080/"
        },
        "outputId": "5ede1cf7-5166-45bf-8150-9d22ebbef9d6"
      },
      "execution_count": 19,
      "outputs": [
        {
          "output_type": "stream",
          "name": "stdout",
          "text": [
            "1655 214 2220 2954\n"
          ]
        }
      ]
    },
    {
      "cell_type": "code",
      "source": [
        "#We will calculate the relation between seniority and tenure (in months)\n",
        "\n",
        "#print(df['SeniorCitizen'])\n",
        "seniorList = list(df['SeniorCitizen'])\n",
        "iter = 0\n",
        "tenureList = list(df['tenure'])\n",
        "avgTenure = mean(tenureList)\n",
        "print(round(avgTenure,2))\n",
        "\n",
        "seniorTenure = []\n",
        "notThat = []\n",
        "iter = 0\n",
        "for i in seniorList:\n",
        "  if(i == 0):\n",
        "    notThat.append(tenureList[iter])\n",
        "  elif(i == 1):\n",
        "    seniorTenure.append(tenureList[iter])\n",
        "  iter += 1\n",
        "\n",
        "notMean = mean(notThat)\n",
        "seniorMean = mean(seniorTenure)"
      ],
      "metadata": {
        "colab": {
          "base_uri": "https://localhost:8080/"
        },
        "id": "C_M-9r9YOdCp",
        "outputId": "7a212b32-7a6a-4617-a6d8-6ba3e0cdecde"
      },
      "execution_count": 52,
      "outputs": [
        {
          "output_type": "stream",
          "name": "stdout",
          "text": [
            "32.37\n"
          ]
        }
      ]
    },
    {
      "cell_type": "code",
      "source": [
        "#Plot the senior/tenure relationship\n",
        "plt.style.use('ggplot')\n",
        "x = ['Senior Tenure' ,' Everyone Else']\n",
        "y = [seniorMean, notMean]\n",
        "x_pos = np.arange(len(x))\n",
        "plt.bar(x_pos, y, color='#3ac63f')\n",
        "plt.xlabel(\"Types of Customer\")\n",
        "plt.ylabel(\"Average Tenure (in months)\")\n",
        "plt.title(\"Relationship between seniority and tenure at Telco\")\n",
        "plt.xticks(x_pos, x)\n",
        "plt.show()"
      ],
      "metadata": {
        "colab": {
          "base_uri": "https://localhost:8080/",
          "height": 299
        },
        "id": "WgDl0zUVRjWn",
        "outputId": "06b7318f-5c5b-45b1-a2b7-ee9a6e332ab1"
      },
      "execution_count": 54,
      "outputs": [
        {
          "output_type": "display_data",
          "data": {
            "text/plain": [
              "<Figure size 432x288 with 1 Axes>"
            ],
            "image/png": "[encoded data removed]"
          },
          "metadata": {}
        }
      ]
    },
    {
      "cell_type": "code",
      "source": [
        "#Calculations\n",
        "percentChurnPerMonth = monthlyChurn / (monthlyChurn + monthlyKeep)\n",
        "print(percentChurnPerMonth)\n",
        "\n"
      ],
      "metadata": {
        "id": "_g0XCDlgNgNn"
      },
      "execution_count": null,
      "outputs": []
    },
    {
      "cell_type": "code",
      "source": [
        "#Bar Graph Time!\n",
        "\n",
        "plt.style.use('ggplot')\n",
        "x = ['MC', 'YC', 'MK', 'YK']\n",
        "y = [monthlyChurn, yearlyChurn, monthlyKeep, yearlyKeep]\n",
        "x_pos = np.arange(len(x))\n",
        "plt.bar(x_pos, y, color='#7ed6df')\n",
        "plt.xlabel(\"M = Month, Y = Year, C = Churn, K = Keep\")\n",
        "plt.ylabel(\"People (in 1s)\")\n",
        "plt.title(\"Customer Turnover\")\n",
        "plt.xticks(x_pos, x)\n",
        "plt.show()\n",
        "\n"
      ],
      "metadata": {
        "colab": {
          "base_uri": "https://localhost:8080/",
          "height": 299
        },
        "id": "-KEhuEtbKjne",
        "outputId": "1b7fc988-2083-430c-96a0-ebf3f7095a21"
      },
      "execution_count": 27,
      "outputs": [
        {
          "output_type": "display_data",
          "data": {
            "text/plain": [
              "<Figure size 432x288 with 1 Axes>"
            ],
            "image/png": "[encoded data removed]"
          },
          "metadata": {}
        }
      ]
    }
  ]
}